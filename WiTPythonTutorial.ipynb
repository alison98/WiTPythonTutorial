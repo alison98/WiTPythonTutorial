{
  "nbformat": 4,
  "nbformat_minor": 0,
  "metadata": {
    "colab": {
      "name": "WiTPythonTutorial.ipynb",
      "provenance": []
    },
    "kernelspec": {
      "name": "python3",
      "display_name": "Python 3"
    },
    "language_info": {
      "name": "python"
    }
  },
  "cells": [
    {
      "cell_type": "markdown",
      "metadata": {
        "id": "8yKh1vrBHYZI"
      },
      "source": [
        "# Welcome to WiT's Intro to Python workshop!\n",
        "\n",
        "Today we're going to go over some Python basics using Google Colab. You don't need to download anything to run this code, and we encourage you to edit the code in this tutorial so you can better learn how it works.\n",
        "\n",
        "##Hello World\n",
        "\n",
        "The first code every programmer starts with is called a Hello World statement. Run the code below to print your Hello World:"
      ]
    },
    {
      "cell_type": "code",
      "metadata": {
        "id": "noYk-cbaHyM9",
        "colab": {
          "base_uri": "https://localhost:8080/"
        },
        "outputId": "64cd2229-1df3-4529-fd54-5c1d376619c2"
      },
      "source": [
        "print(\"Hello, world!\")"
      ],
      "execution_count": 1,
      "outputs": [
        {
          "output_type": "stream",
          "text": [
            "Hello, World!\n"
          ],
          "name": "stdout"
        }
      ]
    },
    {
      "cell_type": "markdown",
      "metadata": {
        "id": "w-kxcgqzLF3z"
      },
      "source": [
        "Note that print in this context refers to putting text on the screen, not using the kind of printer we know. Try changing the text in this statement to print different text."
      ]
    },
    {
      "cell_type": "markdown",
      "metadata": {
        "id": "Ocyx1vMCLmTP"
      },
      "source": [
        "##Variables"
      ]
    },
    {
      "cell_type": "code",
      "metadata": {
        "id": "r4PNpTc-L_pI"
      },
      "source": [
        "#variables"
      ],
      "execution_count": null,
      "outputs": []
    },
    {
      "cell_type": "markdown",
      "metadata": {
        "id": "Btece_TJMDYZ"
      },
      "source": [
        "##Data Types\n",
        "\n",
        "###Strings"
      ]
    },
    {
      "cell_type": "code",
      "metadata": {
        "id": "JWauFq3BMJbr"
      },
      "source": [
        "#strings"
      ],
      "execution_count": null,
      "outputs": []
    },
    {
      "cell_type": "markdown",
      "metadata": {
        "id": "RcyuX_wbMLaR"
      },
      "source": [
        "###Booleans"
      ]
    },
    {
      "cell_type": "code",
      "metadata": {
        "id": "anP5x0rUMK92"
      },
      "source": [
        "#booleans"
      ],
      "execution_count": null,
      "outputs": []
    },
    {
      "cell_type": "markdown",
      "metadata": {
        "id": "ph92Zq6fMRGT"
      },
      "source": [
        "##Integers"
      ]
    },
    {
      "cell_type": "code",
      "metadata": {
        "id": "Drc1a2fVMVKp"
      },
      "source": [
        "#ints"
      ],
      "execution_count": null,
      "outputs": []
    },
    {
      "cell_type": "markdown",
      "metadata": {
        "id": "yqo2bkJ9MXGi"
      },
      "source": [
        "###Decimals"
      ]
    },
    {
      "cell_type": "code",
      "metadata": {
        "id": "z35tTQT0MZJA"
      },
      "source": [
        "#decimals"
      ],
      "execution_count": null,
      "outputs": []
    },
    {
      "cell_type": "markdown",
      "metadata": {
        "id": "MmATAZOiMd_1"
      },
      "source": [
        "##Comments"
      ]
    },
    {
      "cell_type": "code",
      "metadata": {
        "id": "YrCvX9jjMgYJ"
      },
      "source": [
        "#comments"
      ],
      "execution_count": null,
      "outputs": []
    },
    {
      "cell_type": "markdown",
      "metadata": {
        "id": "CTIYXcyvMhwa"
      },
      "source": [
        "##User Input"
      ]
    },
    {
      "cell_type": "code",
      "metadata": {
        "id": "CQyFvFfIMkM9"
      },
      "source": [
        "#input"
      ],
      "execution_count": null,
      "outputs": []
    },
    {
      "cell_type": "markdown",
      "metadata": {
        "id": "2mm4nEmnMmPI"
      },
      "source": [
        "##Boolean Operators"
      ]
    },
    {
      "cell_type": "code",
      "metadata": {
        "id": "q1u9wcezMqGl"
      },
      "source": [
        "#bool operators"
      ],
      "execution_count": null,
      "outputs": []
    },
    {
      "cell_type": "markdown",
      "metadata": {
        "id": "QBmBed45Muku"
      },
      "source": [
        "##If Statements"
      ]
    },
    {
      "cell_type": "code",
      "metadata": {
        "id": "WGhTBeYCMw7G"
      },
      "source": [
        "#if statements"
      ],
      "execution_count": null,
      "outputs": []
    },
    {
      "cell_type": "markdown",
      "metadata": {
        "id": "TLaPbpndM01z"
      },
      "source": [
        "##Lists"
      ]
    },
    {
      "cell_type": "code",
      "metadata": {
        "id": "99Cu2kbvM22k"
      },
      "source": [
        "#lists"
      ],
      "execution_count": null,
      "outputs": []
    },
    {
      "cell_type": "markdown",
      "metadata": {
        "id": "mjNLfB33M4On"
      },
      "source": [
        "#Putting it all Together"
      ]
    },
    {
      "cell_type": "code",
      "metadata": {
        "id": "9xc22vAiM81q"
      },
      "source": [
        "#putting it all together"
      ],
      "execution_count": null,
      "outputs": []
    }
  ]
}