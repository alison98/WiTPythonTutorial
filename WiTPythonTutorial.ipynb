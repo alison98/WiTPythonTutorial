{
  "nbformat": 4,
  "nbformat_minor": 0,
  "metadata": {
    "colab": {
      "name": "WiTPythonTutorial.ipynb",
      "provenance": []
    },
    "kernelspec": {
      "display_name": "Python 3",
      "language": "python",
      "name": "python3"
    },
    "language_info": {
      "codemirror_mode": {
        "name": "ipython",
        "version": 3
      },
      "file_extension": ".py",
      "mimetype": "text/x-python",
      "name": "python",
      "nbconvert_exporter": "python",
      "pygments_lexer": "ipython3",
      "version": "3.8.6rc1"
    }
  },
  "cells": [
    {
      "cell_type": "markdown",
      "metadata": {
        "id": "8yKh1vrBHYZI"
      },
      "source": [
        "# Welcome to WiT's Intro to Python workshop!\n",
        "\n",
        "Today we're going to go over some Python basics using Google Colab. You don't need to download anything to run this code, and we encourage you to edit the code in this tutorial so you can better learn how it works.\n",
        "\n",
        "##Hello World\n",
        "\n",
        "The first code every programmer starts with is called a Hello World statement. Run the code below to print your Hello World:"
      ]
    },
    {
      "cell_type": "code",
      "metadata": {
        "colab": {
          "base_uri": "https://localhost:8080/"
        },
        "id": "noYk-cbaHyM9",
        "outputId": "64cd2229-1df3-4529-fd54-5c1d376619c2"
      },
      "source": [
        "print(\"Hello, world!\")"
      ],
      "execution_count": null,
      "outputs": [
        {
          "output_type": "stream",
          "text": [
            "Hello, World!\n"
          ],
          "name": "stdout"
        }
      ]
    },
    {
      "cell_type": "markdown",
      "metadata": {
        "id": "w-kxcgqzLF3z"
      },
      "source": [
        "Note that print in this context refers to putting text on the screen, not using the kind of printer we know. Try changing the text in this statement to print different text."
      ]
    },
    {
      "cell_type": "markdown",
      "metadata": {
        "id": "Ocyx1vMCLmTP"
      },
      "source": [
        "##Variables"
      ]
    },
    {
      "cell_type": "code",
      "metadata": {
        "id": "r4PNpTc-L_pI"
      },
      "source": [
        "x = 1\n",
        "age = 20\n",
        "name = \"Jane\""
      ],
      "execution_count": null,
      "outputs": []
    },
    {
      "cell_type": "markdown",
      "metadata": {
        "id": "yWzNxIeHn_sI"
      },
      "source": [
        "Variables are memory locations reserved to store data (numbers, words, etc.). A value is assigned to the variable using the equal sign (=).\n",
        "Python is different from other languages in that you don't need to say what kind of data a variable is storing. That information is declared when the value has been assigned. We will go further into the different data types after this."
      ]
    },
    {
      "cell_type": "markdown",
      "metadata": {
        "id": "Btece_TJMDYZ"
      },
      "source": [
        "##Data Types\n",
        "\n",
        "###Strings"
      ]
    },
    {
      "cell_type": "code",
      "metadata": {
        "id": "JWauFq3BMJbr"
      },
      "source": [
        "first_name = \"John\"\n",
        "last_name = 'Doe'\n",
        "\n",
        "print(first_name)\n",
        "print(last_name)"
      ],
      "execution_count": null,
      "outputs": []
    },
    {
      "cell_type": "markdown",
      "metadata": {
        "id": "PZVSMrK-n_sJ"
      },
      "source": [
        "A string is a sequence of characters enclosed in either 'single quotes' or \"double quotes\". You can even use \"\"\"triple quotes\"\"\" if your string will span over multiple lines. Make your own string variable of your name and print it to your screen."
      ]
    },
    {
      "cell_type": "markdown",
      "metadata": {
        "id": "RcyuX_wbMLaR"
      },
      "source": [
        "###Booleans"
      ]
    },
    {
      "cell_type": "code",
      "metadata": {
        "id": "anP5x0rUMK92"
      },
      "source": [
        "here = True"
      ],
      "execution_count": null,
      "outputs": []
    },
    {
      "cell_type": "markdown",
      "metadata": {
        "id": "RQtutmkyn_sJ"
      },
      "source": [
        "Booleans represent either True or False (for example, you being here = True). Python can also determine the boolean value of a statement. See below:"
      ]
    },
    {
      "cell_type": "code",
      "metadata": {
        "id": "ETQennr-n_sK"
      },
      "source": [
        "print(2>1) #will print True\n",
        "print(2<1) #will print False"
      ],
      "execution_count": null,
      "outputs": []
    },
    {
      "cell_type": "markdown",
      "metadata": {
        "id": "ph92Zq6fMRGT"
      },
      "source": [
        "##Integers"
      ]
    },
    {
      "cell_type": "code",
      "metadata": {
        "id": "Drc1a2fVMVKp"
      },
      "source": [
        "x = -5\n",
        "y = int(5.4)"
      ],
      "execution_count": null,
      "outputs": []
    },
    {
      "cell_type": "markdown",
      "metadata": {
        "id": "auxhRRvqn_sK"
      },
      "source": [
        "Integer variables only hold positive or negative whole numbers. You can turn a decimal value into an integer by \"casting\" it with the integer data type \"int()\" as shown above."
      ]
    },
    {
      "cell_type": "markdown",
      "metadata": {
        "id": "yqo2bkJ9MXGi"
      },
      "source": [
        "###Decimals"
      ]
    },
    {
      "cell_type": "code",
      "metadata": {
        "id": "z35tTQT0MZJA"
      },
      "source": [
        "pi = 3.14\n",
        "num = float(\"20\")"
      ],
      "execution_count": null,
      "outputs": []
    },
    {
      "cell_type": "markdown",
      "metadata": {
        "id": "L0M4Lg91n_sL"
      },
      "source": [
        "The \"float\" (floating point real values) data type represents real numbers with a decimal point. If assigned to a whole number, the float variable will print with a \".0\" appended on the end."
      ]
    },
    {
      "cell_type": "markdown",
      "metadata": {
        "id": "MmATAZOiMd_1"
      },
      "source": [
        "##Comments\n",
        "Comments in your code help you and other people who read your code to understand what's going on. You may write a comment to explain what a certain section does, to divide your code in pieces, or to make your code readable. Comments are ignored by the program and used for your own benefit!\n",
        "\n",
        "A single line comment is done using a # symbol followed by what you want to type. \n",
        "\n",
        "Try it below and change what the comments says! Notice how it won't print anything because it is ignored by the program!"
      ]
    },
    {
      "cell_type": "code",
      "metadata": {
        "id": "YrCvX9jjMgYJ"
      },
      "source": [
        "# this is a comment! Say whatever you want!"
      ],
      "execution_count": null,
      "outputs": []
    },
    {
      "cell_type": "markdown",
      "metadata": {
        "id": "CTIYXcyvMhwa"
      },
      "source": [
        "##User Input\n",
        "User input allows for your program to interact with the user and collect information from them. This is done using variables and the input function. \n",
        "\n",
        "The input function collects information from the user, you must store that information in a variable to use it later. Try the code below! You can change the prompt given in the input statement too!"
      ]
    },
    {
      "cell_type": "code",
      "metadata": {
        "id": "CQyFvFfIMkM9"
      },
      "source": [
        "name = input(\"Enter your first name: \")\n",
        "print(\"Your name is: \" + name)"
      ],
      "execution_count": null,
      "outputs": []
    },
    {
      "cell_type": "markdown",
      "metadata": {
        "id": "2mm4nEmnMmPI"
      },
      "source": [
        "##Boolean Operators\n",
        "Boolean operators refer to operators that will result in a True or False value. \n",
        "\n",
        "Use a double equal sign, ==, to check if two values are equal. This will return True if they are, False if not. Other comparison operators include \n",
        "\n",
        "\n",
        "* Greater than: >\n",
        "* Greater than or equal to: >=\n",
        "* Less than: <\n",
        "* Less than or equal to: <=\n",
        "* Not equal to: !=\n",
        "\n",
        "Run the examples blow, predict what they will return to see if you understand the operators. "
      ]
    },
    {
      "cell_type": "code",
      "metadata": {
        "id": "q1u9wcezMqGl"
      },
      "source": [
        "7 == 7"
      ],
      "execution_count": null,
      "outputs": []
    },
    {
      "cell_type": "code",
      "metadata": {
        "id": "fuPOyPbcoaH3"
      },
      "source": [
        "5 < 6"
      ],
      "execution_count": null,
      "outputs": []
    },
    {
      "cell_type": "code",
      "metadata": {
        "id": "19a53q_dobGd"
      },
      "source": [
        "5 > 6"
      ],
      "execution_count": null,
      "outputs": []
    },
    {
      "cell_type": "code",
      "metadata": {
        "id": "q0FCXTfWoeCu"
      },
      "source": [
        "6 != 7"
      ],
      "execution_count": null,
      "outputs": []
    },
    {
      "cell_type": "markdown",
      "metadata": {
        "id": "inNPu3c3ojKa"
      },
      "source": [
        "You can also use the not operator, to get the opposite value printed."
      ]
    },
    {
      "cell_type": "code",
      "metadata": {
        "id": "bX9feITLokZ1"
      },
      "source": [
        "not 7 == 7"
      ],
      "execution_count": null,
      "outputs": []
    },
    {
      "cell_type": "markdown",
      "metadata": {
        "id": "QBmBed45Muku"
      },
      "source": [
        "##If Statements"
      ]
    },
    {
      "cell_type": "code",
      "metadata": {
        "id": "WGhTBeYCMw7G"
      },
      "source": [
        "#if statements"
      ],
      "execution_count": null,
      "outputs": []
    },
    {
      "cell_type": "markdown",
      "metadata": {
        "id": "TLaPbpndM01z"
      },
      "source": [
        "##Lists"
      ]
    },
    {
      "cell_type": "code",
      "metadata": {
        "id": "99Cu2kbvM22k"
      },
      "source": [
        "#lists"
      ],
      "execution_count": null,
      "outputs": []
    },
    {
      "cell_type": "markdown",
      "metadata": {
        "id": "mjNLfB33M4On"
      },
      "source": [
        "#Putting it all Together"
      ]
    },
    {
      "cell_type": "code",
      "metadata": {
        "id": "9xc22vAiM81q"
      },
      "source": [
        "#putting it all together"
      ],
      "execution_count": null,
      "outputs": []
    }
  ]
}