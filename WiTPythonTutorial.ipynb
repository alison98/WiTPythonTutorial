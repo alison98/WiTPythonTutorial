{
  "nbformat": 4,
  "nbformat_minor": 0,
  "metadata": {
    "colab": {
      "name": "WiTPythonTutorial.ipynb",
      "provenance": [],
      "collapsed_sections": []
    },
    "kernelspec": {
      "display_name": "Python 3",
      "language": "python",
      "name": "python3"
    },
    "language_info": {
      "codemirror_mode": {
        "name": "ipython",
        "version": 3
      },
      "file_extension": ".py",
      "mimetype": "text/x-python",
      "name": "python",
      "nbconvert_exporter": "python",
      "pygments_lexer": "ipython3",
      "version": "3.8.6rc1"
    }
  },
  "cells": [
    {
      "cell_type": "markdown",
      "metadata": {
        "id": "8yKh1vrBHYZI"
      },
      "source": [
        "# Welcome to WiT's Intro to Python workshop!\n",
        "\n",
        "Today we're going to go over some Python basics using Google Colab. You don't need to download anything to run this code, and we encourage you to edit the code in this tutorial so you can better learn how it works.\n",
        "\n",
        "##Hello World\n",
        "\n",
        "The first code every programmer starts with is called a Hello World statement. Run the code below to print your Hello World:"
      ]
    },
    {
      "cell_type": "code",
      "metadata": {
        "colab": {
          "base_uri": "https://localhost:8080/"
        },
        "id": "noYk-cbaHyM9",
        "outputId": "90868caa-fada-4372-f72b-64439bb376d5"
      },
      "source": [
        "print(\"Hello, world!\")"
      ],
      "execution_count": 4,
      "outputs": [
        {
          "output_type": "stream",
          "text": [
            "Hello, world!\n"
          ],
          "name": "stdout"
        }
      ]
    },
    {
      "cell_type": "markdown",
      "metadata": {
        "id": "w-kxcgqzLF3z"
      },
      "source": [
        "Note that `print` in this context refers to putting text on the screen, not using the kind of printer we know. Try changing the text in this statement to print different text."
      ]
    },
    {
      "cell_type": "markdown",
      "metadata": {
        "id": "Ocyx1vMCLmTP"
      },
      "source": [
        "##Variables"
      ]
    },
    {
      "cell_type": "code",
      "metadata": {
        "id": "r4PNpTc-L_pI",
        "colab": {
          "base_uri": "https://localhost:8080/"
        },
        "outputId": "43fb26b4-a440-4651-8e7d-1cbd541e5c1f"
      },
      "source": [
        "x = 1\n",
        "age = 20\n",
        "name = \"Jane\"\n",
        "\n",
        "print(x)\n",
        "print(age)\n",
        "print(name)"
      ],
      "execution_count": 11,
      "outputs": [
        {
          "output_type": "stream",
          "text": [
            "1\n",
            "20\n",
            "Jane\n"
          ],
          "name": "stdout"
        }
      ]
    },
    {
      "cell_type": "markdown",
      "metadata": {
        "id": "yWzNxIeHn_sI"
      },
      "source": [
        "Variables are used to store data (numbers, words, etc.). A value is assigned to the variable using the equal sign (=).\n",
        "\n",
        "If you've programmed in other languages, you'll notice that Python is different from other languages in that you don't need to say what kind of data a variable is storing. That information is declared when the value has been assigned."
      ]
    },
    {
      "cell_type": "markdown",
      "metadata": {
        "id": "Btece_TJMDYZ"
      },
      "source": [
        "##Data Types\n",
        "\n",
        "###Strings"
      ]
    },
    {
      "cell_type": "code",
      "metadata": {
        "id": "JWauFq3BMJbr",
        "colab": {
          "base_uri": "https://localhost:8080/"
        },
        "outputId": "9246b9d7-7b7c-4b34-aca0-8cd882c7d951"
      },
      "source": [
        "first_name = \"John\"\n",
        "last_name = 'Doe'\n",
        "\n",
        "print(first_name)\n",
        "print(last_name)"
      ],
      "execution_count": 10,
      "outputs": [
        {
          "output_type": "stream",
          "text": [
            "John\n",
            "Doe\n"
          ],
          "name": "stdout"
        }
      ]
    },
    {
      "cell_type": "markdown",
      "metadata": {
        "id": "PZVSMrK-n_sJ"
      },
      "source": [
        "A string is a sequence of characters enclosed in either 'single quotes' or \"double quotes\". You can even use \"\"\"triple quotes\"\"\" if your string will span over multiple lines. Make your own string variable of your name and print it to your screen."
      ]
    },
    {
      "cell_type": "markdown",
      "metadata": {
        "id": "RcyuX_wbMLaR"
      },
      "source": [
        "###Booleans"
      ]
    },
    {
      "cell_type": "code",
      "metadata": {
        "id": "anP5x0rUMK92"
      },
      "source": [
        "here = True"
      ],
      "execution_count": 12,
      "outputs": []
    },
    {
      "cell_type": "markdown",
      "metadata": {
        "id": "RQtutmkyn_sJ"
      },
      "source": [
        "Booleans represent either True or False (for example, you being here = True). Python can also determine the boolean value of a statement. See below:"
      ]
    },
    {
      "cell_type": "code",
      "metadata": {
        "id": "ETQennr-n_sK",
        "colab": {
          "base_uri": "https://localhost:8080/"
        },
        "outputId": "0a49638c-c28e-4eed-c702-39bdcff69afd"
      },
      "source": [
        "print(2>1) #will print True\n",
        "print(2<1) #will print False"
      ],
      "execution_count": 13,
      "outputs": [
        {
          "output_type": "stream",
          "text": [
            "True\n",
            "False\n"
          ],
          "name": "stdout"
        }
      ]
    },
    {
      "cell_type": "markdown",
      "metadata": {
        "id": "ph92Zq6fMRGT"
      },
      "source": [
        "##Integers"
      ]
    },
    {
      "cell_type": "code",
      "metadata": {
        "id": "Drc1a2fVMVKp",
        "colab": {
          "base_uri": "https://localhost:8080/"
        },
        "outputId": "bac7f025-2658-4f8a-97aa-c0f1513cceac"
      },
      "source": [
        "x = -5\n",
        "y = int(5.4)\n",
        "\n",
        "print(x)\n",
        "print(y)"
      ],
      "execution_count": 6,
      "outputs": [
        {
          "output_type": "stream",
          "text": [
            "-5\n",
            "5\n"
          ],
          "name": "stdout"
        }
      ]
    },
    {
      "cell_type": "markdown",
      "metadata": {
        "id": "auxhRRvqn_sK"
      },
      "source": [
        "Integer variables only hold positive or negative whole numbers. You can turn a decimal value into an integer by \"casting\" it with the integer data type \"int()\" as shown above."
      ]
    },
    {
      "cell_type": "markdown",
      "metadata": {
        "id": "yqo2bkJ9MXGi"
      },
      "source": [
        "###Decimals"
      ]
    },
    {
      "cell_type": "code",
      "metadata": {
        "id": "z35tTQT0MZJA",
        "colab": {
          "base_uri": "https://localhost:8080/"
        },
        "outputId": "61263432-dbda-40e2-ec2e-d21c7ecaec9c"
      },
      "source": [
        "pi = 3.14\n",
        "num = float(\"20\")\n",
        "\n",
        "print(pi)\n",
        "print(num)"
      ],
      "execution_count": 7,
      "outputs": [
        {
          "output_type": "stream",
          "text": [
            "3.14\n",
            "20.0\n"
          ],
          "name": "stdout"
        }
      ]
    },
    {
      "cell_type": "markdown",
      "metadata": {
        "id": "L0M4Lg91n_sL"
      },
      "source": [
        "The \"float\" (floating point real values) data type represents real numbers with a decimal point. If assigned to a whole number, the float variable will print with a \".0\" appended on the end."
      ]
    },
    {
      "cell_type": "markdown",
      "metadata": {
        "id": "MmATAZOiMd_1"
      },
      "source": [
        "##Comments\n",
        "Comments in your code help you and other people who read your code to understand what's going on. You may write a comment to explain what a certain section does, to divide your code in pieces, or to make your code readable. Comments are ignored by the program and used for your own benefit!\n",
        "\n",
        "A single line comment is done using a # symbol followed by what you want to type. \n",
        "\n",
        "Try it below and change what the comments says! Notice how it won't print anything because it is ignored by the program!"
      ]
    },
    {
      "cell_type": "code",
      "metadata": {
        "id": "YrCvX9jjMgYJ"
      },
      "source": [
        "# this is a comment! Say whatever you want!"
      ],
      "execution_count": null,
      "outputs": []
    },
    {
      "cell_type": "markdown",
      "metadata": {
        "id": "CTIYXcyvMhwa"
      },
      "source": [
        "##User Input\n",
        "User input allows for your program to interact with the user and collect information from them. This is done using variables and the input function. \n",
        "\n",
        "The input function collects information from the user, you must store that information in a variable to use it later. Try the code below! You can change the prompt given in the input statement too!"
      ]
    },
    {
      "cell_type": "code",
      "metadata": {
        "id": "CQyFvFfIMkM9",
        "colab": {
          "base_uri": "https://localhost:8080/"
        },
        "outputId": "41c30c2b-eed0-4a1d-c0bd-1deb5cc0671f"
      },
      "source": [
        "name = input(\"Enter your first name: \")\n",
        "print(\"Your name is: \" + name)"
      ],
      "execution_count": 14,
      "outputs": [
        {
          "output_type": "stream",
          "text": [
            "Enter your first name: Alison\n",
            "Your name is: Alison\n"
          ],
          "name": "stdout"
        }
      ]
    },
    {
      "cell_type": "markdown",
      "metadata": {
        "id": "2mm4nEmnMmPI"
      },
      "source": [
        "##Boolean Operators\n",
        "Boolean operators refer to operators that will result in a True or False value. \n",
        "\n",
        "Use a double equal sign, ==, to check if two values are equal. This will return True if they are, False if not. Other comparison operators include \n",
        "\n",
        "\n",
        "* Greater than: >\n",
        "* Greater than or equal to: >=\n",
        "* Less than: <\n",
        "* Less than or equal to: <=\n",
        "* Not equal to: !=\n",
        "\n",
        "Run the examples blow, predict what they will return to see if you understand the operators. "
      ]
    },
    {
      "cell_type": "code",
      "metadata": {
        "id": "q1u9wcezMqGl",
        "colab": {
          "base_uri": "https://localhost:8080/"
        },
        "outputId": "c0b5e0ef-6684-40ab-fc3d-34343410139f"
      },
      "source": [
        "7 == 7"
      ],
      "execution_count": 15,
      "outputs": [
        {
          "output_type": "execute_result",
          "data": {
            "text/plain": [
              "True"
            ]
          },
          "metadata": {
            "tags": []
          },
          "execution_count": 15
        }
      ]
    },
    {
      "cell_type": "code",
      "metadata": {
        "id": "fuPOyPbcoaH3",
        "colab": {
          "base_uri": "https://localhost:8080/"
        },
        "outputId": "e4f68344-8d49-46ec-fafc-c6dda6e93370"
      },
      "source": [
        "5 < 6"
      ],
      "execution_count": 16,
      "outputs": [
        {
          "output_type": "execute_result",
          "data": {
            "text/plain": [
              "True"
            ]
          },
          "metadata": {
            "tags": []
          },
          "execution_count": 16
        }
      ]
    },
    {
      "cell_type": "code",
      "metadata": {
        "id": "19a53q_dobGd",
        "colab": {
          "base_uri": "https://localhost:8080/"
        },
        "outputId": "62cf40c8-4a42-4e59-a226-5f0564918d6b"
      },
      "source": [
        "5 > 6"
      ],
      "execution_count": 17,
      "outputs": [
        {
          "output_type": "execute_result",
          "data": {
            "text/plain": [
              "False"
            ]
          },
          "metadata": {
            "tags": []
          },
          "execution_count": 17
        }
      ]
    },
    {
      "cell_type": "code",
      "metadata": {
        "id": "q0FCXTfWoeCu",
        "colab": {
          "base_uri": "https://localhost:8080/"
        },
        "outputId": "4d8bdec6-ff40-474d-c766-d41a131c1425"
      },
      "source": [
        "6 != 7"
      ],
      "execution_count": 18,
      "outputs": [
        {
          "output_type": "execute_result",
          "data": {
            "text/plain": [
              "True"
            ]
          },
          "metadata": {
            "tags": []
          },
          "execution_count": 18
        }
      ]
    },
    {
      "cell_type": "code",
      "metadata": {
        "id": "5RlKNMKUsarv"
      },
      "source": [
        "#try writing and testing your own statements!"
      ],
      "execution_count": null,
      "outputs": []
    },
    {
      "cell_type": "markdown",
      "metadata": {
        "id": "inNPu3c3ojKa"
      },
      "source": [
        "You can also use the not operator, to get the opposite value printed."
      ]
    },
    {
      "cell_type": "code",
      "metadata": {
        "id": "bX9feITLokZ1",
        "colab": {
          "base_uri": "https://localhost:8080/"
        },
        "outputId": "393e3f59-1f72-41ba-fb49-fb144aea7f35"
      },
      "source": [
        "not 7 == 7"
      ],
      "execution_count": 19,
      "outputs": [
        {
          "output_type": "execute_result",
          "data": {
            "text/plain": [
              "False"
            ]
          },
          "metadata": {
            "tags": []
          },
          "execution_count": 19
        }
      ]
    },
    {
      "cell_type": "markdown",
      "metadata": {
        "id": "QBmBed45Muku"
      },
      "source": [
        "##If Statements"
      ]
    },
    {
      "cell_type": "markdown",
      "metadata": {
        "id": "PJ9FnDO1XE0k"
      },
      "source": [
        "### What are if Statements?"
      ]
    },
    {
      "cell_type": "markdown",
      "metadata": {
        "id": "EmEdGNpUOvEu"
      },
      "source": [
        "Boolean operators can be used in ```if``` statements to help decide what to run.\n",
        "\n"
      ]
    },
    {
      "cell_type": "code",
      "metadata": {
        "id": "wVY7bDHbPjvo",
        "colab": {
          "base_uri": "https://localhost:8080/"
        },
        "outputId": "32c0980a-92bc-4104-8b5e-e401d3ddd04f"
      },
      "source": [
        "if 3 > -2:\n",
        "  print(\"Hello world!\")"
      ],
      "execution_count": 20,
      "outputs": [
        {
          "output_type": "stream",
          "text": [
            "Hello world!\n"
          ],
          "name": "stdout"
        }
      ]
    },
    {
      "cell_type": "markdown",
      "metadata": {
        "id": "MuoaAOqHP9kk"
      },
      "source": [
        "Here, the program evaluates the expression ```3 > -2``` and will execute the print statement only if the test expression is True. Hence, \"Hello world!\" will be printed."
      ]
    },
    {
      "cell_type": "markdown",
      "metadata": {
        "id": "dgHp_NreQbFg"
      },
      "source": [
        "If the expression is False, the print statement is not executed.\n",
        "\n",
        "In Python, the body of the if statement is indicated by the indentation. The body starts with an indentation and the first unindented line marks the end.\n",
        "\n",
        "Python interprets non-zero values as True. None and 0 are interpreted as False."
      ]
    },
    {
      "cell_type": "code",
      "metadata": {
        "id": "g_9uDImUQ2C8",
        "colab": {
          "base_uri": "https://localhost:8080/"
        },
        "outputId": "5b499046-3868-451e-f19b-2f956fb6d76d"
      },
      "source": [
        "if 1:\n",
        "  print(\"Pizza\")"
      ],
      "execution_count": 21,
      "outputs": [
        {
          "output_type": "stream",
          "text": [
            "Pizza\n"
          ],
          "name": "stdout"
        }
      ]
    },
    {
      "cell_type": "code",
      "metadata": {
        "id": "bioS0sV7RCVk",
        "colab": {
          "base_uri": "https://localhost:8080/"
        },
        "outputId": "0c93f9fe-163f-46b9-ed38-b2a6641a8fc5"
      },
      "source": [
        "if None:\n",
        "  print(\"Pizza\")\n",
        "else:\n",
        "  print(\"Tacos\")"
      ],
      "execution_count": 22,
      "outputs": [
        {
          "output_type": "stream",
          "text": [
            "Tacos\n"
          ],
          "name": "stdout"
        }
      ]
    },
    {
      "cell_type": "markdown",
      "metadata": {
        "id": "JnbCHVvoWYm7"
      },
      "source": [
        "###if... else Statements"
      ]
    },
    {
      "cell_type": "markdown",
      "metadata": {
        "id": "93-XdJkwTLbb"
      },
      "source": [
        "In the above example, we used an ```if... else``` statement to evaluate the expression ```None```. The ```if... else``` statement is similar to an ```if``` statement in that it executes the body of ```if``` only when the test condition is True. However, if the condition is False, the body of ```else``` is executed.\n",
        "\n"
      ]
    },
    {
      "cell_type": "markdown",
      "metadata": {
        "id": "zQ8UaSKaVcDy"
      },
      "source": [
        "Another example:"
      ]
    },
    {
      "cell_type": "code",
      "metadata": {
        "id": "xIXYMoHcVeku",
        "colab": {
          "base_uri": "https://localhost:8080/"
        },
        "outputId": "23f870bf-23ce-4a0e-b94a-1392b2396596"
      },
      "source": [
        "num = 5\n",
        "\n",
        "if num >= 0:\n",
        "  print(\"num is positive\")\n",
        "else:\n",
        "  print(\"num is negative\")"
      ],
      "execution_count": 23,
      "outputs": [
        {
          "output_type": "stream",
          "text": [
            "num is positive\n"
          ],
          "name": "stdout"
        }
      ]
    },
    {
      "cell_type": "markdown",
      "metadata": {
        "id": "14bPqKWYV5eB"
      },
      "source": [
        "### if... elif... else Statements"
      ]
    },
    {
      "cell_type": "markdown",
      "metadata": {
        "id": "JI4bVLF-XVRP"
      },
      "source": [
        "We can further expand of ```if... else``` statements and evaluate multiple expression in one statement. \n",
        "The keyword ```elif```, shorthand for else if, allows you to test another condition if the previous blocks fail."
      ]
    },
    {
      "cell_type": "code",
      "metadata": {
        "id": "bSTO0XnRZEu0",
        "colab": {
          "base_uri": "https://localhost:8080/"
        },
        "outputId": "c99766b9-bb6c-483f-eb47-ac7525adad4b"
      },
      "source": [
        "a = 54\n",
        "b = 18\n",
        "\n",
        "if a > b:\n",
        "  print(a)\n",
        "elif a < b:\n",
        "  print(b)\n",
        "else:\n",
        "  0"
      ],
      "execution_count": 24,
      "outputs": [
        {
          "output_type": "stream",
          "text": [
            "54\n"
          ],
          "name": "stdout"
        }
      ]
    },
    {
      "cell_type": "markdown",
      "metadata": {
        "id": "y3PMe_y_ZOWp"
      },
      "source": [
        "You can add as many ```elif``` expressions as you like!"
      ]
    },
    {
      "cell_type": "code",
      "metadata": {
        "id": "Aze5t3CkZNk6",
        "colab": {
          "base_uri": "https://localhost:8080/"
        },
        "outputId": "7ecd1741-4a16-453c-941d-f3e2bcbf52ab"
      },
      "source": [
        "age = 20\n",
        "\n",
        "if 1 < age < 12:\n",
        "  print(\"child\")\n",
        "elif 13 < age < 17:\n",
        "  print(\"teen\")\n",
        "elif 18 < age < 25:\n",
        "  print(\"young adult\")\n",
        "else:\n",
        "  print(\"adult\")"
      ],
      "execution_count": 25,
      "outputs": [
        {
          "output_type": "stream",
          "text": [
            "young adult\n"
          ],
          "name": "stdout"
        }
      ]
    },
    {
      "cell_type": "markdown",
      "metadata": {
        "id": "VRVcdHUNs8yN"
      },
      "source": [
        "Feel free to change the number stored in `age`. What happens when `age` is less than 0? Why does this happen? What could you do to fix it?"
      ]
    },
    {
      "cell_type": "markdown",
      "metadata": {
        "id": "530rBXZ-bRg7"
      },
      "source": [
        "###Nested if Statements\n",
        "\n",
        "Another way to evaluate multiple conditions is by having if statements within another if statement. \n",
        "Any number of these statements can be nested inside one another. Indentation is the only way to figure out the level of nesting. They can get confusing, so they must be avoided unless necessary."
      ]
    },
    {
      "cell_type": "code",
      "metadata": {
        "id": "juxiaeHHmZkk",
        "colab": {
          "base_uri": "https://localhost:8080/"
        },
        "outputId": "ce502399-8d3c-4dd7-b8c9-dbaf05046cdd"
      },
      "source": [
        "num = 5\n",
        "if num >= 0:\n",
        "    if num == 0:\n",
        "        print(\"Zero\")\n",
        "    else:\n",
        "        print(\"Positive number\")\n",
        "else:\n",
        "    print(\"Negative number\")"
      ],
      "execution_count": 26,
      "outputs": [
        {
          "output_type": "stream",
          "text": [
            "Positive number\n"
          ],
          "name": "stdout"
        }
      ]
    },
    {
      "cell_type": "markdown",
      "metadata": {
        "id": "TLaPbpndM01z"
      },
      "source": [
        "##Lists"
      ]
    },
    {
      "cell_type": "markdown",
      "metadata": {
        "id": "yHMI4y8qyqzS"
      },
      "source": [
        "###What are Lists and How to Create Them?"
      ]
    },
    {
      "cell_type": "markdown",
      "metadata": {
        "id": "rQ_Y_jl7niyw"
      },
      "source": [
        "Lists are used to store multiple items in a single variable.\n",
        "Each element in a list is separated by a comma and the list is identified by surrounding square brackets.\n",
        "\n"
      ]
    },
    {
      "cell_type": "code",
      "metadata": {
        "id": "F3XBKnnGrKfl",
        "colab": {
          "base_uri": "https://localhost:8080/"
        },
        "outputId": "261cf571-2637-45e4-f1d8-579e5c0a8cd7"
      },
      "source": [
        "fruits = [\"apple\", \"banana\", \"cherry\"]    #list of strings\n",
        "nothing = []                              #list of no elements\n",
        "print(fruits)\n",
        "print(nothing)"
      ],
      "execution_count": 27,
      "outputs": [
        {
          "output_type": "stream",
          "text": [
            "['apple', 'banana', 'cherry']\n",
            "[]\n"
          ],
          "name": "stdout"
        }
      ]
    },
    {
      "cell_type": "markdown",
      "metadata": {
        "id": "ELniV_KKt37D"
      },
      "source": [
        "Lists can be of any type!"
      ]
    },
    {
      "cell_type": "code",
      "metadata": {
        "id": "kTlixYjrt8JH",
        "colab": {
          "base_uri": "https://localhost:8080/"
        },
        "outputId": "b3f8fe2b-6c2a-4da7-89f0-c2937b0e9fb8"
      },
      "source": [
        "list1 = [\"apple\", \"banana\", \"cherry\"]     #strings\n",
        "list2 = [1, 5, 7, 9, 3]                   #integers\n",
        "list3 = [True, False, False]              #boolean\n",
        "list4 = [\"abc\", 34, True, 40, \"male\"]     #all types\n",
        "print(list1)\n",
        "print(list2)\n",
        "print(list3)\n",
        "print(list4)"
      ],
      "execution_count": 28,
      "outputs": [
        {
          "output_type": "stream",
          "text": [
            "['apple', 'banana', 'cherry']\n",
            "[1, 5, 7, 9, 3]\n",
            "[True, False, False]\n",
            "['abc', 34, True, 40, 'male']\n"
          ],
          "name": "stdout"
        }
      ]
    },
    {
      "cell_type": "markdown",
      "metadata": {
        "id": "DX87FuPrzOrz"
      },
      "source": [
        "###Accessing List Elements"
      ]
    },
    {
      "cell_type": "markdown",
      "metadata": {
        "id": "ZdgpAoBfrV8p"
      },
      "source": [
        "List items can be accessed by its index number with the first element being the 0th index, the second element 1st index, etc...\n",
        "\n",
        "We can use the index operator [] to access an item in a list.\n",
        "\n",
        "Trying to access indexes other than these will raise an ```IndexError```. The index must be an integer. We can't use float or other types, this will result in TypeError.\n"
      ]
    },
    {
      "cell_type": "code",
      "metadata": {
        "id": "TD1xS_mXwCIO",
        "colab": {
          "base_uri": "https://localhost:8080/",
          "height": 231
        },
        "outputId": "54cc424d-ccb0-4a93-bdd3-4861caaacb29"
      },
      "source": [
        "print(fruits[0])   #print first element with index 0\n",
        "print(fruits[2])   #print last element with index 2\n",
        "print(fruits[3])   #will give an error because the index is out of bounds"
      ],
      "execution_count": 29,
      "outputs": [
        {
          "output_type": "stream",
          "text": [
            "apple\n",
            "cherry\n"
          ],
          "name": "stdout"
        },
        {
          "output_type": "error",
          "ename": "IndexError",
          "evalue": "ignored",
          "traceback": [
            "\u001b[0;31m---------------------------------------------------------------------------\u001b[0m",
            "\u001b[0;31mIndexError\u001b[0m                                Traceback (most recent call last)",
            "\u001b[0;32m<ipython-input-29-8a0570e60009>\u001b[0m in \u001b[0;36m<module>\u001b[0;34m()\u001b[0m\n\u001b[1;32m      1\u001b[0m \u001b[0mprint\u001b[0m\u001b[0;34m(\u001b[0m\u001b[0mfruits\u001b[0m\u001b[0;34m[\u001b[0m\u001b[0;36m0\u001b[0m\u001b[0;34m]\u001b[0m\u001b[0;34m)\u001b[0m   \u001b[0;31m#print first element with index 0\u001b[0m\u001b[0;34m\u001b[0m\u001b[0;34m\u001b[0m\u001b[0m\n\u001b[1;32m      2\u001b[0m \u001b[0mprint\u001b[0m\u001b[0;34m(\u001b[0m\u001b[0mfruits\u001b[0m\u001b[0;34m[\u001b[0m\u001b[0;36m2\u001b[0m\u001b[0;34m]\u001b[0m\u001b[0;34m)\u001b[0m   \u001b[0;31m#print last element with index 2\u001b[0m\u001b[0;34m\u001b[0m\u001b[0;34m\u001b[0m\u001b[0m\n\u001b[0;32m----> 3\u001b[0;31m \u001b[0mprint\u001b[0m\u001b[0;34m(\u001b[0m\u001b[0mfruits\u001b[0m\u001b[0;34m[\u001b[0m\u001b[0;36m3\u001b[0m\u001b[0;34m]\u001b[0m\u001b[0;34m)\u001b[0m   \u001b[0;31m#will give an error because the index is out of bound\u001b[0m\u001b[0;34m\u001b[0m\u001b[0;34m\u001b[0m\u001b[0m\n\u001b[0m",
            "\u001b[0;31mIndexError\u001b[0m: list index out of range"
          ]
        }
      ]
    },
    {
      "cell_type": "markdown",
      "metadata": {
        "id": "zz1eVR8D0k6q"
      },
      "source": [
        "Python also allows negative indexing. This means we can access elements starting from the last element at -1 and so forth"
      ]
    },
    {
      "cell_type": "code",
      "metadata": {
        "id": "qYT0dEUy1CmJ",
        "colab": {
          "base_uri": "https://localhost:8080/",
          "height": 231
        },
        "outputId": "38d87140-ac7f-462e-99ba-48bbdb30d8c6"
      },
      "source": [
        "print(fruits[-3])   #print first element with index 0\n",
        "print(fruits[-1])   #print last element with index 2\n",
        "print(fruits[-4])   #will give an error because the index is out of bounds"
      ],
      "execution_count": 30,
      "outputs": [
        {
          "output_type": "stream",
          "text": [
            "apple\n",
            "cherry\n"
          ],
          "name": "stdout"
        },
        {
          "output_type": "error",
          "ename": "IndexError",
          "evalue": "ignored",
          "traceback": [
            "\u001b[0;31m---------------------------------------------------------------------------\u001b[0m",
            "\u001b[0;31mIndexError\u001b[0m                                Traceback (most recent call last)",
            "\u001b[0;32m<ipython-input-30-5ea6e54bd746>\u001b[0m in \u001b[0;36m<module>\u001b[0;34m()\u001b[0m\n\u001b[1;32m      1\u001b[0m \u001b[0mprint\u001b[0m\u001b[0;34m(\u001b[0m\u001b[0mfruits\u001b[0m\u001b[0;34m[\u001b[0m\u001b[0;34m-\u001b[0m\u001b[0;36m3\u001b[0m\u001b[0;34m]\u001b[0m\u001b[0;34m)\u001b[0m   \u001b[0;31m#print first element with index 0\u001b[0m\u001b[0;34m\u001b[0m\u001b[0;34m\u001b[0m\u001b[0m\n\u001b[1;32m      2\u001b[0m \u001b[0mprint\u001b[0m\u001b[0;34m(\u001b[0m\u001b[0mfruits\u001b[0m\u001b[0;34m[\u001b[0m\u001b[0;34m-\u001b[0m\u001b[0;36m1\u001b[0m\u001b[0;34m]\u001b[0m\u001b[0;34m)\u001b[0m   \u001b[0;31m#print last element with index 2\u001b[0m\u001b[0;34m\u001b[0m\u001b[0;34m\u001b[0m\u001b[0m\n\u001b[0;32m----> 3\u001b[0;31m \u001b[0mprint\u001b[0m\u001b[0;34m(\u001b[0m\u001b[0mfruits\u001b[0m\u001b[0;34m[\u001b[0m\u001b[0;34m-\u001b[0m\u001b[0;36m4\u001b[0m\u001b[0;34m]\u001b[0m\u001b[0;34m)\u001b[0m   \u001b[0;31m#will give an error because the index is out of bound\u001b[0m\u001b[0;34m\u001b[0m\u001b[0;34m\u001b[0m\u001b[0m\n\u001b[0m",
            "\u001b[0;31mIndexError\u001b[0m: list index out of range"
          ]
        }
      ]
    },
    {
      "cell_type": "markdown",
      "metadata": {
        "id": "hCnetb-NwBCy"
      },
      "source": [
        "To determine how many items a list has, we can use the len() function."
      ]
    },
    {
      "cell_type": "code",
      "metadata": {
        "id": "fRTeWfIgslGW",
        "colab": {
          "base_uri": "https://localhost:8080/"
        },
        "outputId": "e9cf3b7c-8ac1-4a07-9795-190c60d80717"
      },
      "source": [
        "length = len(fruits)\n",
        "print(length)"
      ],
      "execution_count": 31,
      "outputs": [
        {
          "output_type": "stream",
          "text": [
            "3\n"
          ],
          "name": "stdout"
        }
      ]
    },
    {
      "cell_type": "markdown",
      "metadata": {
        "id": "irkBUi-q1QeX"
      },
      "source": [
        "###Adding and Changing List Elements\n",
        "We can easily change elements in lists by accessing the element's index."
      ]
    },
    {
      "cell_type": "code",
      "metadata": {
        "id": "LaEpHl511iG1",
        "colab": {
          "base_uri": "https://localhost:8080/"
        },
        "outputId": "441f78d0-7bda-430f-ef98-c7e1281f1023"
      },
      "source": [
        "fruits[1] = \"papaya\"\n",
        "print(fruits)"
      ],
      "execution_count": 32,
      "outputs": [
        {
          "output_type": "stream",
          "text": [
            "['apple', 'papaya', 'cherry']\n"
          ],
          "name": "stdout"
        }
      ]
    },
    {
      "cell_type": "markdown",
      "metadata": {
        "id": "MthdJ_V915hE"
      },
      "source": [
        "We can also add an element to a list using the append() function."
      ]
    },
    {
      "cell_type": "code",
      "metadata": {
        "id": "v0mkB6sf2GXq",
        "colab": {
          "base_uri": "https://localhost:8080/"
        },
        "outputId": "3f0dc652-3800-4f4a-c49c-a231d3541b66"
      },
      "source": [
        "fruits.append(\"mango\")\n",
        "print(fruits)"
      ],
      "execution_count": 33,
      "outputs": [
        {
          "output_type": "stream",
          "text": [
            "['apple', 'papaya', 'cherry', 'mango']\n"
          ],
          "name": "stdout"
        }
      ]
    },
    {
      "cell_type": "markdown",
      "metadata": {
        "id": "S7gCMhrO2Rnw"
      },
      "source": [
        "To add multiple elements to the list you can either use the extend() method list as an argument or the ```+``` operator to combine two lists."
      ]
    },
    {
      "cell_type": "code",
      "metadata": {
        "id": "ns4xwvb8319w",
        "colab": {
          "base_uri": "https://localhost:8080/"
        },
        "outputId": "096f8da2-e529-4ac9-95b1-8cf25b429cb9"
      },
      "source": [
        "moreFruits = [\"oranges\", \"watermelon\", \"kiwi\"]\n",
        "fruits.extend(moreFruits)        #use extend() method to combine two lists\n",
        "print(fruits)\n",
        "\n",
        "vegetables = [\"carrots\", \"squash\", \"broccoli\"]\n",
        "print(fruits + vegetables)       #add two lists together\n"
      ],
      "execution_count": 34,
      "outputs": [
        {
          "output_type": "stream",
          "text": [
            "['apple', 'papaya', 'cherry', 'mango', 'oranges', 'watermelon', 'kiwi']\n",
            "['apple', 'papaya', 'cherry', 'mango', 'oranges', 'watermelon', 'kiwi', 'carrots', 'squash', 'broccoli']\n"
          ],
          "name": "stdout"
        }
      ]
    },
    {
      "cell_type": "markdown",
      "metadata": {
        "id": "LDnsxVpX31VR"
      },
      "source": [
        "###Remove List Elements\n",
        "We can delete one or more items from a list using the keyword del."
      ]
    },
    {
      "cell_type": "code",
      "metadata": {
        "id": "VwDwoms671-T",
        "colab": {
          "base_uri": "https://localhost:8080/"
        },
        "outputId": "9ad4d435-2302-402a-9e23-0c3baa4e7bb3"
      },
      "source": [
        "del vegetables[2]    #delete the last element\n",
        "print(vegetables)"
      ],
      "execution_count": 35,
      "outputs": [
        {
          "output_type": "stream",
          "text": [
            "['carrots', 'squash']\n"
          ],
          "name": "stdout"
        }
      ]
    },
    {
      "cell_type": "markdown",
      "metadata": {
        "id": "mjNLfB33M4On"
      },
      "source": [
        "#Putting it all Together\n",
        "\n",
        "Now that you've learned about the basics of Python, let's put it all together to make a small program of your own. \n",
        "\n",
        "Your program is going to ask for 3 test scores via input, output the average of the scores, then output the letter grade of the average score. (A: 90-100, B: 80-89, C: 70-79, D: 60-69, F: 0-59)\n",
        "\n",
        "When you run your completed program, it should look something like this:\n",
        "(note that 92, 84, and 65 are inputs here)\n",
        "\n",
        "```\n",
        "Test score 1: 92\n",
        "Test score 2: 84\n",
        "Test score 3: 65\n",
        "Average 80.33333333333333\n",
        "Grade: B\n",
        "```\n",
        "Hints:\n",
        "- Although you don't need to use a list to solve this problem, you may want to use one to store the three scores\n",
        "- Make sure you cast input to `int` before calculating the average\n",
        "- You can calculate the letter grade using an `if/elif` block\n",
        "- There are many ways to write this program, and there is no one right answer\n"
      ]
    },
    {
      "cell_type": "code",
      "metadata": {
        "id": "cL5Slb4spiXu"
      },
      "source": [
        "# Your code here!"
      ],
      "execution_count": null,
      "outputs": []
    }
  ]
}