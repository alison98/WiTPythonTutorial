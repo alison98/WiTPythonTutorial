{
 "cells": [
  {
   "cell_type": "markdown",
   "metadata": {
    "id": "8yKh1vrBHYZI"
   },
   "source": [
    "# Welcome to WiT's Intro to Python workshop!\n",
    "\n",
    "Today we're going to go over some Python basics using Google Colab. You don't need to download anything to run this code, and we encourage you to edit the code in this tutorial so you can better learn how it works.\n",
    "\n",
    "##Hello World\n",
    "\n",
    "The first code every programmer starts with is called a Hello World statement. Run the code below to print your Hello World:"
   ]
  },
  {
   "cell_type": "code",
   "execution_count": 1,
   "metadata": {
    "colab": {
     "base_uri": "https://localhost:8080/"
    },
    "id": "noYk-cbaHyM9",
    "outputId": "64cd2229-1df3-4529-fd54-5c1d376619c2"
   },
   "outputs": [
    {
     "name": "stdout",
     "output_type": "stream",
     "text": [
      "Hello, World!\n"
     ]
    }
   ],
   "source": [
    "print(\"Hello, world!\")"
   ]
  },
  {
   "cell_type": "markdown",
   "metadata": {
    "id": "w-kxcgqzLF3z"
   },
   "source": [
    "Note that print in this context refers to putting text on the screen, not using the kind of printer we know. Try changing the text in this statement to print different text."
   ]
  },
  {
   "cell_type": "markdown",
   "metadata": {
    "id": "Ocyx1vMCLmTP"
   },
   "source": [
    "##Variables"
   ]
  },
  {
   "cell_type": "code",
   "execution_count": null,
   "metadata": {
    "id": "r4PNpTc-L_pI"
   },
   "outputs": [],
   "source": [
    "x = 1\n",
    "age = 20\n",
    "name = \"Jane\""
   ]
  },
  {
   "cell_type": "markdown",
   "metadata": {},
   "source": [
    "Variables are memory locations reserved to store data (numbers, words, etc.). A value is assigned to the variable using the equal sign (=).\n",
    "Python is different from other languages in that you don't need to say what kind of data a variable is storing. That information is declared when the value has been assigned. We will go further into the different data types after this."
   ]
  },
  {
   "cell_type": "markdown",
   "metadata": {
    "id": "Btece_TJMDYZ"
   },
   "source": [
    "##Data Types\n",
    "\n",
    "###Strings"
   ]
  },
  {
   "cell_type": "code",
   "execution_count": null,
   "metadata": {
    "id": "JWauFq3BMJbr"
   },
   "outputs": [],
   "source": [
    "first_name = \"John\"\n",
    "last_name = 'Doe'\n",
    "\n",
    "print(first_name)\n",
    "print(last_name)"
   ]
  },
  {
   "cell_type": "markdown",
   "metadata": {},
   "source": [
    "A string is a sequence of characters enclosed in either 'single quotes' or \"double quotes\". You can even use \"\"\"triple quotes\"\"\" if your string will span over multiple lines. Make your own string variable of your name and print it to your screen."
   ]
  },
  {
   "cell_type": "markdown",
   "metadata": {
    "id": "RcyuX_wbMLaR"
   },
   "source": [
    "###Booleans"
   ]
  },
  {
   "cell_type": "code",
   "execution_count": null,
   "metadata": {
    "id": "anP5x0rUMK92"
   },
   "outputs": [],
   "source": [
    "here = True"
   ]
  },
  {
   "cell_type": "markdown",
   "metadata": {},
   "source": [
    "Booleans represent either True or False (for example, you being here = True). Python can also determine the boolean value of a statement. See below:"
   ]
  },
  {
   "cell_type": "code",
   "execution_count": null,
   "metadata": {},
   "outputs": [],
   "source": [
    "print(2>1) #will print True\n",
    "print(2<1) #will print False"
   ]
  },
  {
   "cell_type": "markdown",
   "metadata": {
    "id": "ph92Zq6fMRGT"
   },
   "source": [
    "##Integers"
   ]
  },
  {
   "cell_type": "code",
   "execution_count": null,
   "metadata": {
    "id": "Drc1a2fVMVKp"
   },
   "outputs": [],
   "source": [
    "x = -5\n",
    "y = int(5.4)"
   ]
  },
  {
   "cell_type": "markdown",
   "metadata": {},
   "source": [
    "Integer variables only hold positive or negative whole numbers. You can turn a decimal value into an integer by \"casting\" it with the integer data type \"int()\" as shown above."
   ]
  },
  {
   "cell_type": "markdown",
   "metadata": {
    "id": "yqo2bkJ9MXGi"
   },
   "source": [
    "###Decimals"
   ]
  },
  {
   "cell_type": "code",
   "execution_count": null,
   "metadata": {
    "id": "z35tTQT0MZJA"
   },
   "outputs": [],
   "source": [
    "pi = 3.14\n",
    "num = float(\"20\")"
   ]
  },
  {
   "cell_type": "markdown",
   "metadata": {},
   "source": [
    "The \"float\" (floating point real values) data type represents real numbers with a decimal point. If assigned to a whole number, the float variable will print with a \".0\" appended on the end."
   ]
  },
  {
   "cell_type": "markdown",
   "metadata": {
    "id": "MmATAZOiMd_1"
   },
   "source": [
    "##Comments"
   ]
  },
  {
   "cell_type": "code",
   "execution_count": null,
   "metadata": {
    "id": "YrCvX9jjMgYJ"
   },
   "outputs": [],
   "source": [
    "#comments"
   ]
  },
  {
   "cell_type": "markdown",
   "metadata": {
    "id": "CTIYXcyvMhwa"
   },
   "source": [
    "##User Input"
   ]
  },
  {
   "cell_type": "code",
   "execution_count": null,
   "metadata": {
    "id": "CQyFvFfIMkM9"
   },
   "outputs": [],
   "source": [
    "#input"
   ]
  },
  {
   "cell_type": "markdown",
   "metadata": {
    "id": "2mm4nEmnMmPI"
   },
   "source": [
    "##Boolean Operators"
   ]
  },
  {
   "cell_type": "code",
   "execution_count": null,
   "metadata": {
    "id": "q1u9wcezMqGl"
   },
   "outputs": [],
   "source": [
    "#bool operators"
   ]
  },
  {
   "cell_type": "markdown",
   "metadata": {
    "id": "QBmBed45Muku"
   },
   "source": [
    "##If Statements"
   ]
  },
  {
   "cell_type": "code",
   "execution_count": null,
   "metadata": {
    "id": "WGhTBeYCMw7G"
   },
   "outputs": [],
   "source": [
    "#if statements"
   ]
  },
  {
   "cell_type": "markdown",
   "metadata": {
    "id": "TLaPbpndM01z"
   },
   "source": [
    "##Lists"
   ]
  },
  {
   "cell_type": "code",
   "execution_count": null,
   "metadata": {
    "id": "99Cu2kbvM22k"
   },
   "outputs": [],
   "source": [
    "#lists"
   ]
  },
  {
   "cell_type": "markdown",
   "metadata": {
    "id": "mjNLfB33M4On"
   },
   "source": [
    "#Putting it all Together"
   ]
  },
  {
   "cell_type": "code",
   "execution_count": null,
   "metadata": {
    "id": "9xc22vAiM81q"
   },
   "outputs": [],
   "source": [
    "#putting it all together"
   ]
  }
 ],
 "metadata": {
  "colab": {
   "name": "WiTPythonTutorial.ipynb",
   "provenance": []
  },
  "kernelspec": {
   "display_name": "Python 3",
   "language": "python",
   "name": "python3"
  },
  "language_info": {
   "codemirror_mode": {
    "name": "ipython",
    "version": 3
   },
   "file_extension": ".py",
   "mimetype": "text/x-python",
   "name": "python",
   "nbconvert_exporter": "python",
   "pygments_lexer": "ipython3",
   "version": "3.8.6rc1"
  }
 },
 "nbformat": 4,
 "nbformat_minor": 4
}
